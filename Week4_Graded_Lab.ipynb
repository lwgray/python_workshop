{
 "cells": [
  {
   "cell_type": "markdown",
   "metadata": {},
   "source": [
    "# Week4_GradedLab\n",
    "## Read Data"
   ]
  },
  {
   "cell_type": "code",
   "execution_count": null,
   "metadata": {
    "tags": []
   },
   "outputs": [],
   "source": [
    "# I have provided you with the code to read the Data\n",
    "import pandas as pd\n",
    "mtc = pd.read_csv('monster_trading_cards.csv')\n",
    "mtc.head(1)"
   ]
  },
  {
   "cell_type": "markdown",
   "metadata": {},
   "source": [
    "# Top Spenders\n",
    "## Identify the top 5 spenders in the game by total purchase value, and provide the following info on each player.\n",
    "* user_name\n",
    "* Purchase count\n",
    "* Average Purchase Price\n",
    "* Total Purchase Value\n"
   ]
  },
  {
   "cell_type": "code",
   "execution_count": null,
   "metadata": {},
   "outputs": [],
   "source": [
    "top_dawgs = mtc.groupby(['user_name'])['price'].agg(['sum', 'count', 'mean']).sort_values('sum', ascending=False) \n",
    "top_dawgs.head()"
   ]
  },
  {
   "cell_type": "markdown",
   "metadata": {},
   "source": [
    "# Most Popular Items\n",
    "\n",
    "## Identify the most popular `monster card` by purchase count, then list (in a table):\n",
    "  * monster card\n",
    "  * Purchase Count\n",
    "  * Average Item Price\n",
    "  * Total Purchase Value\n",
    "  * The max price paid for this card\n",
    "  * The min price paid for this card"
   ]
  },
  {
   "cell_type": "code",
   "execution_count": null,
   "metadata": {},
   "outputs": [],
   "source": [
    "top_monster= mtc.groupby(['monster_card'])['price'].agg(['count','sum','mean','max','min']).sort_values('count', ascending=False)\n",
    "display(top_monster)\n",
    "top_monster.head(1)"
   ]
  },
  {
   "cell_type": "markdown",
   "metadata": {},
   "source": [
    "# Most Profitable Items\n",
    "\n",
    "## Identify the most profitable items by total purchase value, then list (in a table):\n",
    "  * Item ID\n",
    "  * Item Name\n",
    "  * Purchase Count\n",
    "  * Average Item Price\n",
    "  * Total Purchase Value"
   ]
  },
  {
   "cell_type": "markdown",
   "metadata": {},
   "source": [
    "## **I could not figure out how to create/call upon Item ID or Name"
   ]
  },
  {
   "cell_type": "code",
   "execution_count": null,
   "metadata": {},
   "outputs": [],
   "source": [
    "money_maker= mtc.groupby(['monster_card'])['price'].agg(['sum','count','mean']).sort_values('sum', ascending=False)\n",
    "display(money_maker)"
   ]
  },
  {
   "cell_type": "markdown",
   "metadata": {},
   "source": [
    "# Merge DataFrames\n",
    "## Perform an inner join of the two dataframes `mtc` and `attr` below on the `monster_card` column\n",
    "The `monster_attribute.csv` file contains all the attributes for each monster card such as strength and charisma.  After performing the inner join, play around with the data and try to answer questions like which monster is the fastest or strongest.  Have fun with it."
   ]
  },
  {
   "cell_type": "code",
   "execution_count": null,
   "metadata": {},
   "outputs": [],
   "source": [
    "attr = pd.read_csv('monster_attributes.csv')"
   ]
  },
  {
   "cell_type": "code",
   "execution_count": null,
   "metadata": {},
   "outputs": [],
   "source": [
    "final_form= mtc.merge(attr, how='inner', on='monster_card')\n",
    "display(final_form)"
   ]
  },
  {
   "cell_type": "markdown",
   "metadata": {},
   "source": [
    "# DateTime\n",
    "Determine how many passengers flew in the Third Quarter of 2017?\n",
    "* Use the `AirPassengers.csv` dataset\n",
    "* Subset only dates in 1950 into a new DataFrame\n",
    "* Group new DataFrame into Quarters and aggregate the `#Passengers` column with aggregating function `sum` then sort Passengers in descending order"
   ]
  },
  {
   "cell_type": "code",
   "execution_count": null,
   "metadata": {},
   "outputs": [],
   "source": [
    "aps= pd.read_csv('AirPassengers.csv')\n",
    "display(aps)\n"
   ]
  },
  {
   "cell_type": "code",
   "execution_count": null,
   "metadata": {},
   "outputs": [],
   "source": [
    "aps['Month']= pd.to_datetime(aps['Month'])"
   ]
  },
  {
   "cell_type": "code",
   "execution_count": null,
   "metadata": {},
   "outputs": [],
   "source": [
    "aps['Month']"
   ]
  },
  {
   "cell_type": "code",
   "execution_count": null,
   "metadata": {},
   "outputs": [],
   "source": [
    "nine_fifty = (aps['Month'] >= pd.to_datetime('1950-01-01')) & (aps['Month'] < pd.to_datetime('1951-01-01'))\n",
    "aps.loc[nine_fifty]"
   ]
  },
  {
   "cell_type": "code",
   "execution_count": null,
   "metadata": {},
   "outputs": [],
   "source": []
  },
  {
   "cell_type": "code",
   "execution_count": null,
   "metadata": {},
   "outputs": [],
   "source": [
    "nine_fifty.set_index('#Passengers')"
   ]
  },
  {
   "cell_type": "code",
   "execution_count": null,
   "metadata": {},
   "outputs": [],
   "source": [
    "nine_fifty.groupby(pd.Grouper(freq='Q'))[['#Passengers']].sum()"
   ]
  },
  {
   "cell_type": "code",
   "execution_count": null,
   "metadata": {},
   "outputs": [],
   "source": []
  }
 ],
 "metadata": {
  "kernelspec": {
   "display_name": "Python 3",
   "language": "python",
   "name": "python3"
  },
  "language_info": {
   "codemirror_mode": {
    "name": "ipython",
    "version": 3
   },
   "file_extension": ".py",
   "mimetype": "text/x-python",
   "name": "python",
   "nbconvert_exporter": "python",
   "pygments_lexer": "ipython3",
   "version": "3.8.8"
  }
 },
 "nbformat": 4,
 "nbformat_minor": 4
}
